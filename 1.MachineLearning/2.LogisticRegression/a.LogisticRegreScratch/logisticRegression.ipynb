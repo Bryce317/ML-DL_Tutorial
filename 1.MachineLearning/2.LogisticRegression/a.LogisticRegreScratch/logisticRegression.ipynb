{
 "cells": [
  {
   "cell_type": "code",
   "execution_count": 23,
   "metadata": {},
   "outputs": [],
   "source": [
    "import pandas as pd\n",
    "import matplotlib.pyplot as plt\n",
    "import numpy as np\n",
    "from sklearn.preprocessing import StandardScaler\n",
    "from sklearn.metrics import accuracy_score, confusion_matrix\n",
    "import seaborn as sns"
   ]
  },
  {
   "cell_type": "code",
   "execution_count": 24,
   "metadata": {},
   "outputs": [],
   "source": [
    "data = pd.read_csv('Raisindata.csv')\n",
    "# Remove rows with missing values\n",
    "data.dropna(inplace=True)\n",
    "data = data.sample(frac=1, random_state=42).reset_index(drop=True)"
   ]
  },
  {
   "cell_type": "code",
   "execution_count": 25,
   "metadata": {},
   "outputs": [
    {
     "data": {
      "text/html": [
       "<div>\n",
       "<style scoped>\n",
       "    .dataframe tbody tr th:only-of-type {\n",
       "        vertical-align: middle;\n",
       "    }\n",
       "\n",
       "    .dataframe tbody tr th {\n",
       "        vertical-align: top;\n",
       "    }\n",
       "\n",
       "    .dataframe thead th {\n",
       "        text-align: right;\n",
       "    }\n",
       "</style>\n",
       "<table border=\"1\" class=\"dataframe\">\n",
       "  <thead>\n",
       "    <tr style=\"text-align: right;\">\n",
       "      <th></th>\n",
       "      <th>Area</th>\n",
       "      <th>MajorAxisLength</th>\n",
       "      <th>MinorAxisLength</th>\n",
       "      <th>Eccentricity</th>\n",
       "      <th>ConvexArea</th>\n",
       "      <th>Extent</th>\n",
       "      <th>Perimeter</th>\n",
       "      <th>Class</th>\n",
       "    </tr>\n",
       "  </thead>\n",
       "  <tbody>\n",
       "    <tr>\n",
       "      <th>0</th>\n",
       "      <td>95347</td>\n",
       "      <td>451.526154</td>\n",
       "      <td>280.226153</td>\n",
       "      <td>0.784111</td>\n",
       "      <td>99256</td>\n",
       "      <td>0.674956</td>\n",
       "      <td>1255.245</td>\n",
       "      <td>Kecimen</td>\n",
       "    </tr>\n",
       "    <tr>\n",
       "      <th>1</th>\n",
       "      <td>61861</td>\n",
       "      <td>345.943650</td>\n",
       "      <td>235.430468</td>\n",
       "      <td>0.732706</td>\n",
       "      <td>67390</td>\n",
       "      <td>0.702280</td>\n",
       "      <td>1063.621</td>\n",
       "      <td>Besni</td>\n",
       "    </tr>\n",
       "    <tr>\n",
       "      <th>2</th>\n",
       "      <td>52693</td>\n",
       "      <td>283.504239</td>\n",
       "      <td>242.113954</td>\n",
       "      <td>0.520265</td>\n",
       "      <td>54860</td>\n",
       "      <td>0.737749</td>\n",
       "      <td>895.745</td>\n",
       "      <td>Kecimen</td>\n",
       "    </tr>\n",
       "    <tr>\n",
       "      <th>3</th>\n",
       "      <td>112808</td>\n",
       "      <td>542.504780</td>\n",
       "      <td>267.201878</td>\n",
       "      <td>0.870293</td>\n",
       "      <td>116961</td>\n",
       "      <td>0.743155</td>\n",
       "      <td>1390.400</td>\n",
       "      <td>Besni</td>\n",
       "    </tr>\n",
       "    <tr>\n",
       "      <th>4</th>\n",
       "      <td>49882</td>\n",
       "      <td>287.264327</td>\n",
       "      <td>222.185873</td>\n",
       "      <td>0.633852</td>\n",
       "      <td>50880</td>\n",
       "      <td>0.766378</td>\n",
       "      <td>843.764</td>\n",
       "      <td>Kecimen</td>\n",
       "    </tr>\n",
       "  </tbody>\n",
       "</table>\n",
       "</div>"
      ],
      "text/plain": [
       "     Area  MajorAxisLength  MinorAxisLength  Eccentricity  ConvexArea  \\\n",
       "0   95347       451.526154       280.226153      0.784111       99256   \n",
       "1   61861       345.943650       235.430468      0.732706       67390   \n",
       "2   52693       283.504239       242.113954      0.520265       54860   \n",
       "3  112808       542.504780       267.201878      0.870293      116961   \n",
       "4   49882       287.264327       222.185873      0.633852       50880   \n",
       "\n",
       "     Extent  Perimeter    Class  \n",
       "0  0.674956   1255.245  Kecimen  \n",
       "1  0.702280   1063.621    Besni  \n",
       "2  0.737749    895.745  Kecimen  \n",
       "3  0.743155   1390.400    Besni  \n",
       "4  0.766378    843.764  Kecimen  "
      ]
     },
     "execution_count": 25,
     "metadata": {},
     "output_type": "execute_result"
    }
   ],
   "source": [
    "data.head()"
   ]
  },
  {
   "cell_type": "code",
   "execution_count": 26,
   "metadata": {},
   "outputs": [],
   "source": [
    "data['Class'] = data['Class'].map({\"Kecimen\": 0, \"Besni\": 1})"
   ]
  },
  {
   "cell_type": "code",
   "execution_count": 27,
   "metadata": {},
   "outputs": [
    {
     "data": {
      "text/html": [
       "<div>\n",
       "<style scoped>\n",
       "    .dataframe tbody tr th:only-of-type {\n",
       "        vertical-align: middle;\n",
       "    }\n",
       "\n",
       "    .dataframe tbody tr th {\n",
       "        vertical-align: top;\n",
       "    }\n",
       "\n",
       "    .dataframe thead th {\n",
       "        text-align: right;\n",
       "    }\n",
       "</style>\n",
       "<table border=\"1\" class=\"dataframe\">\n",
       "  <thead>\n",
       "    <tr style=\"text-align: right;\">\n",
       "      <th></th>\n",
       "      <th>Area</th>\n",
       "      <th>MajorAxisLength</th>\n",
       "      <th>MinorAxisLength</th>\n",
       "      <th>Eccentricity</th>\n",
       "      <th>ConvexArea</th>\n",
       "      <th>Extent</th>\n",
       "      <th>Perimeter</th>\n",
       "      <th>Class</th>\n",
       "    </tr>\n",
       "  </thead>\n",
       "  <tbody>\n",
       "    <tr>\n",
       "      <th>0</th>\n",
       "      <td>95347</td>\n",
       "      <td>451.526154</td>\n",
       "      <td>280.226153</td>\n",
       "      <td>0.784111</td>\n",
       "      <td>99256</td>\n",
       "      <td>0.674956</td>\n",
       "      <td>1255.245</td>\n",
       "      <td>0</td>\n",
       "    </tr>\n",
       "    <tr>\n",
       "      <th>1</th>\n",
       "      <td>61861</td>\n",
       "      <td>345.943650</td>\n",
       "      <td>235.430468</td>\n",
       "      <td>0.732706</td>\n",
       "      <td>67390</td>\n",
       "      <td>0.702280</td>\n",
       "      <td>1063.621</td>\n",
       "      <td>1</td>\n",
       "    </tr>\n",
       "    <tr>\n",
       "      <th>2</th>\n",
       "      <td>52693</td>\n",
       "      <td>283.504239</td>\n",
       "      <td>242.113954</td>\n",
       "      <td>0.520265</td>\n",
       "      <td>54860</td>\n",
       "      <td>0.737749</td>\n",
       "      <td>895.745</td>\n",
       "      <td>0</td>\n",
       "    </tr>\n",
       "    <tr>\n",
       "      <th>3</th>\n",
       "      <td>112808</td>\n",
       "      <td>542.504780</td>\n",
       "      <td>267.201878</td>\n",
       "      <td>0.870293</td>\n",
       "      <td>116961</td>\n",
       "      <td>0.743155</td>\n",
       "      <td>1390.400</td>\n",
       "      <td>1</td>\n",
       "    </tr>\n",
       "    <tr>\n",
       "      <th>4</th>\n",
       "      <td>49882</td>\n",
       "      <td>287.264327</td>\n",
       "      <td>222.185873</td>\n",
       "      <td>0.633852</td>\n",
       "      <td>50880</td>\n",
       "      <td>0.766378</td>\n",
       "      <td>843.764</td>\n",
       "      <td>0</td>\n",
       "    </tr>\n",
       "  </tbody>\n",
       "</table>\n",
       "</div>"
      ],
      "text/plain": [
       "     Area  MajorAxisLength  MinorAxisLength  Eccentricity  ConvexArea  \\\n",
       "0   95347       451.526154       280.226153      0.784111       99256   \n",
       "1   61861       345.943650       235.430468      0.732706       67390   \n",
       "2   52693       283.504239       242.113954      0.520265       54860   \n",
       "3  112808       542.504780       267.201878      0.870293      116961   \n",
       "4   49882       287.264327       222.185873      0.633852       50880   \n",
       "\n",
       "     Extent  Perimeter  Class  \n",
       "0  0.674956   1255.245      0  \n",
       "1  0.702280   1063.621      1  \n",
       "2  0.737749    895.745      0  \n",
       "3  0.743155   1390.400      1  \n",
       "4  0.766378    843.764      0  "
      ]
     },
     "execution_count": 27,
     "metadata": {},
     "output_type": "execute_result"
    }
   ],
   "source": [
    "data.head()"
   ]
  },
  {
   "cell_type": "code",
   "execution_count": 28,
   "metadata": {},
   "outputs": [],
   "source": [
    "split_index = int(0.8*len(data))"
   ]
  },
  {
   "cell_type": "code",
   "execution_count": 29,
   "metadata": {},
   "outputs": [],
   "source": [
    "# 2. Split the DataFrame manually using .iloc\n",
    "train_data = data.iloc[:split_index]\n",
    "test_data = data.iloc[split_index:]"
   ]
  },
  {
   "cell_type": "code",
   "execution_count": 30,
   "metadata": {},
   "outputs": [],
   "source": [
    "# 3. Separate features (X) and targets (Y) for both training and test sets.\n",
    "X_train = train_data.drop(columns='Class').values\n",
    "y_train = train_data['Class'].values\n",
    "\n",
    "X_test = test_data.drop(columns='Class').values\n",
    "y_test = test_data['Class'].values"
   ]
  },
  {
   "cell_type": "code",
   "execution_count": 31,
   "metadata": {},
   "outputs": [],
   "source": [
    "# 4) Scale features   ## if i wont add feature scaling then it give 0% accrucacy but by adding this now it is giving something\n",
    "scaler = StandardScaler()\n",
    "X_train_scaled = scaler.fit_transform(X_train)\n",
    "X_test_scaled = scaler.transform(X_test)"
   ]
  },
  {
   "cell_type": "code",
   "execution_count": 32,
   "metadata": {},
   "outputs": [
    {
     "name": "stdout",
     "output_type": "stream",
     "text": [
      "(720, 7)\n"
     ]
    }
   ],
   "source": [
    "print(X_train_scaled.shape)"
   ]
  },
  {
   "cell_type": "markdown",
   "metadata": {},
   "source": [
    "## Forward Propagation\n",
    "- **X**: (720, 7)\n",
    "- **W**: (7,)\n",
    "- **b**: (1,)\n",
    "- **z**: (720,)\n",
    "- **A (sigmoid output)**: (720,)\n",
    "\n",
    "## Backpropagation\n",
    "- **dz**: (720,)\n",
    "- **dw**: (7,)\n",
    "- **db**: (1,)"
   ]
  },
  {
   "cell_type": "code",
   "execution_count": 33,
   "metadata": {},
   "outputs": [],
   "source": [
    "class LogisticRegression:\n",
    "    def __init__(self) -> None:\n",
    "        self.weights : np.ndarray = None\n",
    "        self.bias : float = 0.0\n",
    "    \n",
    "    #Sigmoid method\n",
    "    def _sigmoid(self, x) -> float:\n",
    "        return 1 / (1 + np.exp(-x))\n",
    "    \n",
    "    def hypothesisFunction(self, X: np.ndarray) -> np.ndarray:\n",
    "        \"\"\"Predicts output using learned weights.\"\"\"\n",
    "        if self.weights is None:\n",
    "            return np.zeros(len(X))\n",
    "        z = np.dot(X, self.weights) + self.bias\n",
    "        A = self._sigmoid(z)\n",
    "        return A\n",
    "    \n",
    "    def compute_loss(self, y_true: np.ndarray, y_pred: np.ndarray)-> float:\n",
    "        # binary cross entropy\n",
    "        epsilon = 1e-9\n",
    "        y1 = y_true * np.log(y_pred + epsilon)\n",
    "        y2 = (1-y_true) * np.log(1 - y_pred + epsilon)\n",
    "        return -np.mean(y1 + y2)\n",
    "\n",
    "    def train(\n",
    "        self,\n",
    "        X: np.ndarray,\n",
    "        y_true: np.ndarray,\n",
    "        learning_rate: float = 0.0001,\n",
    "        epochs: int = 50\n",
    "    ) -> tuple[list[float], list[float]]:\n",
    "        pass\n",
    "        if self.weights is None:\n",
    "            self.weights = np.zeros(X.shape[1])\n",
    "\n",
    "        m = len(y_true)\n",
    "        bce_history: list[float] = []\n",
    "        acc_history: list[float] = []\n",
    "\n",
    "\n",
    "        for epoch in range(epochs):\n",
    "            # Forward pass\n",
    "            A = self.hypothesisFunction(X)\n",
    "            binaryCrossEntropy = self.compute_loss(y_true, A)\n",
    "\n",
    "            # Calculate accuracy (%)\n",
    "            y_pred_cls = [1 if i > 0.5 else 0 for i in A]\n",
    "            accuracy = np.mean(y_pred_cls == y_true) * 100\n",
    "\n",
    "            # Print progress\n",
    "            print(f\"Epoch {epoch+1}/{epochs} | Binary Cross Entropy: {binaryCrossEntropy:.4f} | Accuracy: {accuracy:.2f}\")\n",
    "\n",
    "            # Backward pass\n",
    "            dz = A - y_true # derivative of sigmoid and bce X.T*(A-y)\n",
    "\n",
    "            # compute gradients\n",
    "            dw = (1 / m) * np.dot(X.T, dz)\n",
    "            db = (1 / m) * np.sum(dz)\n",
    "\n",
    "            # Update weights\n",
    "            self.weights -= learning_rate * dw\n",
    "            self.bias -= learning_rate * db\n",
    "\n",
    "            # Store logs\n",
    "            bce_history.append(binaryCrossEntropy)\n",
    "            acc_history.append(accuracy)\n",
    "\n",
    "        return bce_history, acc_history\n",
    "    \n",
    "    def predict(self, X:  np.array) -> np.array:\n",
    "        threshold = .5\n",
    "        y_hat = np.dot(X, self.weights) + self.bias\n",
    "        y_predicted = self._sigmoid(y_hat)\n",
    "        y_predicted_cls = [1 if i > threshold else 0 for i in y_predicted]\n",
    "        \n",
    "        return np.array(y_predicted_cls)"
   ]
  },
  {
   "cell_type": "code",
   "execution_count": 34,
   "metadata": {},
   "outputs": [
    {
     "name": "stdout",
     "output_type": "stream",
     "text": [
      "Epoch 1/100 | Binary Cross Entropy: 0.6931 | Accuracy: 50.69\n",
      "Epoch 2/100 | Binary Cross Entropy: 0.6427 | Accuracy: 83.89\n",
      "Epoch 3/100 | Binary Cross Entropy: 0.6034 | Accuracy: 84.03\n",
      "Epoch 4/100 | Binary Cross Entropy: 0.5725 | Accuracy: 84.03\n",
      "Epoch 5/100 | Binary Cross Entropy: 0.5477 | Accuracy: 84.17\n",
      "Epoch 6/100 | Binary Cross Entropy: 0.5274 | Accuracy: 84.44\n",
      "Epoch 7/100 | Binary Cross Entropy: 0.5106 | Accuracy: 84.58\n",
      "Epoch 8/100 | Binary Cross Entropy: 0.4964 | Accuracy: 84.58\n",
      "Epoch 9/100 | Binary Cross Entropy: 0.4844 | Accuracy: 84.58\n",
      "Epoch 10/100 | Binary Cross Entropy: 0.4740 | Accuracy: 84.86\n",
      "Epoch 11/100 | Binary Cross Entropy: 0.4649 | Accuracy: 85.00\n",
      "Epoch 12/100 | Binary Cross Entropy: 0.4570 | Accuracy: 85.00\n",
      "Epoch 13/100 | Binary Cross Entropy: 0.4500 | Accuracy: 85.00\n",
      "Epoch 14/100 | Binary Cross Entropy: 0.4438 | Accuracy: 85.00\n",
      "Epoch 15/100 | Binary Cross Entropy: 0.4382 | Accuracy: 85.00\n",
      "Epoch 16/100 | Binary Cross Entropy: 0.4332 | Accuracy: 85.00\n",
      "Epoch 17/100 | Binary Cross Entropy: 0.4286 | Accuracy: 85.00\n",
      "Epoch 18/100 | Binary Cross Entropy: 0.4245 | Accuracy: 85.14\n",
      "Epoch 19/100 | Binary Cross Entropy: 0.4207 | Accuracy: 85.14\n",
      "Epoch 20/100 | Binary Cross Entropy: 0.4173 | Accuracy: 85.14\n",
      "Epoch 21/100 | Binary Cross Entropy: 0.4141 | Accuracy: 85.42\n",
      "Epoch 22/100 | Binary Cross Entropy: 0.4112 | Accuracy: 85.42\n",
      "Epoch 23/100 | Binary Cross Entropy: 0.4085 | Accuracy: 85.42\n",
      "Epoch 24/100 | Binary Cross Entropy: 0.4060 | Accuracy: 85.56\n",
      "Epoch 25/100 | Binary Cross Entropy: 0.4037 | Accuracy: 85.69\n",
      "Epoch 26/100 | Binary Cross Entropy: 0.4015 | Accuracy: 85.69\n",
      "Epoch 27/100 | Binary Cross Entropy: 0.3995 | Accuracy: 85.83\n",
      "Epoch 28/100 | Binary Cross Entropy: 0.3976 | Accuracy: 85.83\n",
      "Epoch 29/100 | Binary Cross Entropy: 0.3959 | Accuracy: 85.83\n",
      "Epoch 30/100 | Binary Cross Entropy: 0.3942 | Accuracy: 85.83\n",
      "Epoch 31/100 | Binary Cross Entropy: 0.3926 | Accuracy: 85.83\n",
      "Epoch 32/100 | Binary Cross Entropy: 0.3912 | Accuracy: 85.83\n",
      "Epoch 33/100 | Binary Cross Entropy: 0.3898 | Accuracy: 85.83\n",
      "Epoch 34/100 | Binary Cross Entropy: 0.3885 | Accuracy: 85.83\n",
      "Epoch 35/100 | Binary Cross Entropy: 0.3872 | Accuracy: 85.83\n",
      "Epoch 36/100 | Binary Cross Entropy: 0.3861 | Accuracy: 85.83\n",
      "Epoch 37/100 | Binary Cross Entropy: 0.3850 | Accuracy: 85.83\n",
      "Epoch 38/100 | Binary Cross Entropy: 0.3839 | Accuracy: 85.83\n",
      "Epoch 39/100 | Binary Cross Entropy: 0.3829 | Accuracy: 85.97\n",
      "Epoch 40/100 | Binary Cross Entropy: 0.3819 | Accuracy: 85.97\n",
      "Epoch 41/100 | Binary Cross Entropy: 0.3810 | Accuracy: 85.97\n",
      "Epoch 42/100 | Binary Cross Entropy: 0.3802 | Accuracy: 85.83\n",
      "Epoch 43/100 | Binary Cross Entropy: 0.3793 | Accuracy: 85.97\n",
      "Epoch 44/100 | Binary Cross Entropy: 0.3785 | Accuracy: 85.97\n",
      "Epoch 45/100 | Binary Cross Entropy: 0.3778 | Accuracy: 85.97\n",
      "Epoch 46/100 | Binary Cross Entropy: 0.3771 | Accuracy: 85.97\n",
      "Epoch 47/100 | Binary Cross Entropy: 0.3764 | Accuracy: 85.97\n",
      "Epoch 48/100 | Binary Cross Entropy: 0.3757 | Accuracy: 85.97\n",
      "Epoch 49/100 | Binary Cross Entropy: 0.3751 | Accuracy: 85.97\n",
      "Epoch 50/100 | Binary Cross Entropy: 0.3745 | Accuracy: 85.97\n",
      "Epoch 51/100 | Binary Cross Entropy: 0.3739 | Accuracy: 85.97\n",
      "Epoch 52/100 | Binary Cross Entropy: 0.3733 | Accuracy: 85.97\n",
      "Epoch 53/100 | Binary Cross Entropy: 0.3728 | Accuracy: 85.97\n",
      "Epoch 54/100 | Binary Cross Entropy: 0.3723 | Accuracy: 85.97\n",
      "Epoch 55/100 | Binary Cross Entropy: 0.3718 | Accuracy: 85.97\n",
      "Epoch 56/100 | Binary Cross Entropy: 0.3713 | Accuracy: 85.97\n",
      "Epoch 57/100 | Binary Cross Entropy: 0.3708 | Accuracy: 85.97\n",
      "Epoch 58/100 | Binary Cross Entropy: 0.3704 | Accuracy: 85.97\n",
      "Epoch 59/100 | Binary Cross Entropy: 0.3699 | Accuracy: 85.97\n",
      "Epoch 60/100 | Binary Cross Entropy: 0.3695 | Accuracy: 85.97\n",
      "Epoch 61/100 | Binary Cross Entropy: 0.3691 | Accuracy: 86.11\n",
      "Epoch 62/100 | Binary Cross Entropy: 0.3687 | Accuracy: 85.97\n",
      "Epoch 63/100 | Binary Cross Entropy: 0.3684 | Accuracy: 86.11\n",
      "Epoch 64/100 | Binary Cross Entropy: 0.3680 | Accuracy: 86.11\n",
      "Epoch 65/100 | Binary Cross Entropy: 0.3676 | Accuracy: 86.25\n",
      "Epoch 66/100 | Binary Cross Entropy: 0.3673 | Accuracy: 86.39\n",
      "Epoch 67/100 | Binary Cross Entropy: 0.3670 | Accuracy: 86.39\n",
      "Epoch 68/100 | Binary Cross Entropy: 0.3667 | Accuracy: 86.39\n",
      "Epoch 69/100 | Binary Cross Entropy: 0.3663 | Accuracy: 86.39\n",
      "Epoch 70/100 | Binary Cross Entropy: 0.3660 | Accuracy: 86.39\n",
      "Epoch 71/100 | Binary Cross Entropy: 0.3658 | Accuracy: 86.39\n",
      "Epoch 72/100 | Binary Cross Entropy: 0.3655 | Accuracy: 86.39\n",
      "Epoch 73/100 | Binary Cross Entropy: 0.3652 | Accuracy: 86.39\n",
      "Epoch 74/100 | Binary Cross Entropy: 0.3649 | Accuracy: 86.39\n",
      "Epoch 75/100 | Binary Cross Entropy: 0.3647 | Accuracy: 86.39\n",
      "Epoch 76/100 | Binary Cross Entropy: 0.3644 | Accuracy: 86.53\n",
      "Epoch 77/100 | Binary Cross Entropy: 0.3642 | Accuracy: 86.53\n",
      "Epoch 78/100 | Binary Cross Entropy: 0.3640 | Accuracy: 86.53\n",
      "Epoch 79/100 | Binary Cross Entropy: 0.3637 | Accuracy: 86.53\n",
      "Epoch 80/100 | Binary Cross Entropy: 0.3635 | Accuracy: 86.53\n",
      "Epoch 81/100 | Binary Cross Entropy: 0.3633 | Accuracy: 86.39\n",
      "Epoch 82/100 | Binary Cross Entropy: 0.3631 | Accuracy: 86.39\n",
      "Epoch 83/100 | Binary Cross Entropy: 0.3629 | Accuracy: 86.39\n",
      "Epoch 84/100 | Binary Cross Entropy: 0.3627 | Accuracy: 86.39\n",
      "Epoch 85/100 | Binary Cross Entropy: 0.3625 | Accuracy: 86.39\n",
      "Epoch 86/100 | Binary Cross Entropy: 0.3623 | Accuracy: 86.39\n",
      "Epoch 87/100 | Binary Cross Entropy: 0.3621 | Accuracy: 86.39\n",
      "Epoch 88/100 | Binary Cross Entropy: 0.3619 | Accuracy: 86.39\n",
      "Epoch 89/100 | Binary Cross Entropy: 0.3618 | Accuracy: 86.39\n",
      "Epoch 90/100 | Binary Cross Entropy: 0.3616 | Accuracy: 86.39\n",
      "Epoch 91/100 | Binary Cross Entropy: 0.3614 | Accuracy: 86.53\n",
      "Epoch 92/100 | Binary Cross Entropy: 0.3613 | Accuracy: 86.53\n",
      "Epoch 93/100 | Binary Cross Entropy: 0.3611 | Accuracy: 86.53\n",
      "Epoch 94/100 | Binary Cross Entropy: 0.3610 | Accuracy: 86.53\n",
      "Epoch 95/100 | Binary Cross Entropy: 0.3608 | Accuracy: 86.53\n",
      "Epoch 96/100 | Binary Cross Entropy: 0.3607 | Accuracy: 86.53\n",
      "Epoch 97/100 | Binary Cross Entropy: 0.3605 | Accuracy: 86.53\n",
      "Epoch 98/100 | Binary Cross Entropy: 0.3604 | Accuracy: 86.53\n",
      "Epoch 99/100 | Binary Cross Entropy: 0.3603 | Accuracy: 86.53\n",
      "Epoch 100/100 | Binary Cross Entropy: 0.3601 | Accuracy: 86.53\n"
     ]
    }
   ],
   "source": [
    "# 5) Create and train the model\n",
    "model = LogisticRegression()\n",
    "bce_history, acc_history = model.train(\n",
    "    X=X_train_scaled,\n",
    "    y_true=y_train,\n",
    "    learning_rate=0.1,\n",
    "    epochs=100\n",
    ")"
   ]
  },
  {
   "cell_type": "code",
   "execution_count": 35,
   "metadata": {},
   "outputs": [
    {
     "name": "stdout",
     "output_type": "stream",
     "text": [
      "Final Training Loss (Binary Cross Entropy): 0.3601\n",
      "Final Training acc_history: 86.5278\n"
     ]
    }
   ],
   "source": [
    "# 5) Print Final Training Metrics\n",
    "print(f\"Final Training Loss (Binary Cross Entropy): {bce_history[-1]:.4f}\")\n",
    "print(f\"Final Training acc_history: {acc_history[-1]:.4f}\")"
   ]
  },
  {
   "cell_type": "code",
   "execution_count": 36,
   "metadata": {},
   "outputs": [
    {
     "data": {
      "image/png": "[encoded data removed]",
      "text/plain": [
       "<Figure size 1200x400 with 2 Axes>"
      ]
     },
     "metadata": {},
     "output_type": "display_data"
    }
   ],
   "source": [
    "# 6) Plot MSE and Accuracy over epochs\n",
    "fig, axes = plt.subplots(nrows=1, ncols=2, figsize=(12, 4))\n",
    "\n",
    "axes[0].plot(bce_history, label='MSE', color='blue')\n",
    "axes[0].set_title('Training Loss (MSE) over Epochs')\n",
    "axes[0].set_xlabel('Epoch')\n",
    "axes[0].set_ylabel('MSE')\n",
    "axes[0].legend()\n",
    "\n",
    "axes[1].plot(acc_history, label='Accuracy', color='green')\n",
    "axes[1].set_title('Training Accuracy over Epochs')\n",
    "axes[1].set_xlabel('Epoch')\n",
    "axes[1].set_ylabel('Accuracy')\n",
    "axes[1].legend()\n",
    "\n",
    "plt.tight_layout()\n",
    "plt.show()"
   ]
  },
  {
   "cell_type": "code",
   "execution_count": 37,
   "metadata": {},
   "outputs": [],
   "source": [
    "predictions = model.predict(X_test_scaled)"
   ]
  },
  {
   "cell_type": "code",
   "execution_count": 38,
   "metadata": {},
   "outputs": [
    {
     "name": "stdout",
     "output_type": "stream",
     "text": [
      "Test Accuracy: 87.78%\n"
     ]
    }
   ],
   "source": [
    "# Print test accuracy\n",
    "test_accuracy: float = accuracy_score(y_test, predictions) * 100\n",
    "print(f\"Test Accuracy: {test_accuracy:.2f}%\")"
   ]
  },
  {
   "cell_type": "code",
   "execution_count": 39,
   "metadata": {},
   "outputs": [
    {
     "data": {
      "image/png": "[encoded data removed]",
      "text/plain": [
       "<Figure size 640x480 with 2 Axes>"
      ]
     },
     "metadata": {},
     "output_type": "display_data"
    }
   ],
   "source": [
    "# Display confusion matrix\n",
    "cm: np.ndarray = confusion_matrix(y_test, predictions)\n",
    "sns.heatmap(cm, annot=True, cmap='Blues', fmt='d')\n",
    "plt.xlabel(\"Predicted\")\n",
    "plt.ylabel(\"True\")\n",
    "plt.title(\"Confusion Matrix\")\n",
    "plt.show()"
   ]
  },
  {
   "cell_type": "code",
   "execution_count": null,
   "metadata": {},
   "outputs": [],
   "source": []
  },
  {
   "cell_type": "code",
   "execution_count": null,
   "metadata": {},
   "outputs": [],
   "source": []
  }
 ],
 "metadata": {
  "kernelspec": {
   "display_name": "env",
   "language": "python",
   "name": "python3"
  },
  "language_info": {
   "codemirror_mode": {
    "name": "ipython",
    "version": 3
   },
   "file_extension": ".py",
   "mimetype": "text/x-python",
   "name": "python",
   "nbconvert_exporter": "python",
   "pygments_lexer": "ipython3",
   "version": "3.12.4"
  }
 },
 "nbformat": 4,
 "nbformat_minor": 2
}
