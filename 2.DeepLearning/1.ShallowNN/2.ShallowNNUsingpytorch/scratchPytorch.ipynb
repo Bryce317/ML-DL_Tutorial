{
 "cells": [
  {
   "cell_type": "code",
   "execution_count": 1,
   "id": "05963857",
   "metadata": {},
   "outputs": [],
   "source": [
    "import torch\n",
    "import torch.nn.functional as F\n",
    "import numpy as np\n",
    "import pandas as pd\n",
    "import matplotlib.pyplot as plt\n",
    "from sklearn.preprocessing import StandardScaler\n",
    "from sklearn.metrics import accuracy_score, confusion_matrix\n",
    "import seaborn as sns"
   ]
  },
  {
   "cell_type": "code",
   "execution_count": null,
   "id": "01ea757b",
   "metadata": {},
   "outputs": [],
   "source": [
    "# 1. Load & Preprocess Data\n",
    "data = pd.read_csv('Raisindata.csv')\n",
    "data.dropna(inplace=True)\n"
   ]
  },
  {
   "cell_type": "code",
   "execution_count": 3,
   "id": "e85d46dd",
   "metadata": {},
   "outputs": [
    {
     "data": {
      "text/html": [
       "<div>\n",
       "<style scoped>\n",
       "    .dataframe tbody tr th:only-of-type {\n",
       "        vertical-align: middle;\n",
       "    }\n",
       "\n",
       "    .dataframe tbody tr th {\n",
       "        vertical-align: top;\n",
       "    }\n",
       "\n",
       "    .dataframe thead th {\n",
       "        text-align: right;\n",
       "    }\n",
       "</style>\n",
       "<table border=\"1\" class=\"dataframe\">\n",
       "  <thead>\n",
       "    <tr style=\"text-align: right;\">\n",
       "      <th></th>\n",
       "      <th>Area</th>\n",
       "      <th>MajorAxisLength</th>\n",
       "      <th>MinorAxisLength</th>\n",
       "      <th>Eccentricity</th>\n",
       "      <th>ConvexArea</th>\n",
       "      <th>Extent</th>\n",
       "      <th>Perimeter</th>\n",
       "      <th>Class</th>\n",
       "    </tr>\n",
       "  </thead>\n",
       "  <tbody>\n",
       "    <tr>\n",
       "      <th>0</th>\n",
       "      <td>87524</td>\n",
       "      <td>442.246011</td>\n",
       "      <td>253.291155</td>\n",
       "      <td>0.819738</td>\n",
       "      <td>90546</td>\n",
       "      <td>0.758651</td>\n",
       "      <td>1184.040</td>\n",
       "      <td>Kecimen</td>\n",
       "    </tr>\n",
       "    <tr>\n",
       "      <th>1</th>\n",
       "      <td>75166</td>\n",
       "      <td>406.690687</td>\n",
       "      <td>243.032436</td>\n",
       "      <td>0.801805</td>\n",
       "      <td>78789</td>\n",
       "      <td>0.684130</td>\n",
       "      <td>1121.786</td>\n",
       "      <td>Kecimen</td>\n",
       "    </tr>\n",
       "    <tr>\n",
       "      <th>2</th>\n",
       "      <td>90856</td>\n",
       "      <td>442.267048</td>\n",
       "      <td>266.328318</td>\n",
       "      <td>0.798354</td>\n",
       "      <td>93717</td>\n",
       "      <td>0.637613</td>\n",
       "      <td>1208.575</td>\n",
       "      <td>Kecimen</td>\n",
       "    </tr>\n",
       "    <tr>\n",
       "      <th>3</th>\n",
       "      <td>45928</td>\n",
       "      <td>286.540559</td>\n",
       "      <td>208.760042</td>\n",
       "      <td>0.684989</td>\n",
       "      <td>47336</td>\n",
       "      <td>0.699599</td>\n",
       "      <td>844.162</td>\n",
       "      <td>Kecimen</td>\n",
       "    </tr>\n",
       "    <tr>\n",
       "      <th>4</th>\n",
       "      <td>79408</td>\n",
       "      <td>352.190770</td>\n",
       "      <td>290.827533</td>\n",
       "      <td>0.564011</td>\n",
       "      <td>81463</td>\n",
       "      <td>0.792772</td>\n",
       "      <td>1073.251</td>\n",
       "      <td>Kecimen</td>\n",
       "    </tr>\n",
       "  </tbody>\n",
       "</table>\n",
       "</div>"
      ],
      "text/plain": [
       "    Area  MajorAxisLength  MinorAxisLength  Eccentricity  ConvexArea  \\\n",
       "0  87524       442.246011       253.291155      0.819738       90546   \n",
       "1  75166       406.690687       243.032436      0.801805       78789   \n",
       "2  90856       442.267048       266.328318      0.798354       93717   \n",
       "3  45928       286.540559       208.760042      0.684989       47336   \n",
       "4  79408       352.190770       290.827533      0.564011       81463   \n",
       "\n",
       "     Extent  Perimeter    Class  \n",
       "0  0.758651   1184.040  Kecimen  \n",
       "1  0.684130   1121.786  Kecimen  \n",
       "2  0.637613   1208.575  Kecimen  \n",
       "3  0.699599    844.162  Kecimen  \n",
       "4  0.792772   1073.251  Kecimen  "
      ]
     },
     "execution_count": 3,
     "metadata": {},
     "output_type": "execute_result"
    }
   ],
   "source": [
    "data.head()"
   ]
  },
  {
   "cell_type": "code",
   "execution_count": 4,
   "id": "d9bee192",
   "metadata": {},
   "outputs": [],
   "source": [
    "data = data.sample(frac=1, random_state=42).reset_index(drop=True)\n",
    "data['Class'] = data['Class'].map({'Kecimen': 0, 'Besni': 1})"
   ]
  },
  {
   "cell_type": "code",
   "execution_count": 5,
   "id": "247bd4a0",
   "metadata": {},
   "outputs": [
    {
     "data": {
      "text/html": [
       "<div>\n",
       "<style scoped>\n",
       "    .dataframe tbody tr th:only-of-type {\n",
       "        vertical-align: middle;\n",
       "    }\n",
       "\n",
       "    .dataframe tbody tr th {\n",
       "        vertical-align: top;\n",
       "    }\n",
       "\n",
       "    .dataframe thead th {\n",
       "        text-align: right;\n",
       "    }\n",
       "</style>\n",
       "<table border=\"1\" class=\"dataframe\">\n",
       "  <thead>\n",
       "    <tr style=\"text-align: right;\">\n",
       "      <th></th>\n",
       "      <th>Area</th>\n",
       "      <th>MajorAxisLength</th>\n",
       "      <th>MinorAxisLength</th>\n",
       "      <th>Eccentricity</th>\n",
       "      <th>ConvexArea</th>\n",
       "      <th>Extent</th>\n",
       "      <th>Perimeter</th>\n",
       "      <th>Class</th>\n",
       "    </tr>\n",
       "  </thead>\n",
       "  <tbody>\n",
       "    <tr>\n",
       "      <th>0</th>\n",
       "      <td>95347</td>\n",
       "      <td>451.526154</td>\n",
       "      <td>280.226153</td>\n",
       "      <td>0.784111</td>\n",
       "      <td>99256</td>\n",
       "      <td>0.674956</td>\n",
       "      <td>1255.245</td>\n",
       "      <td>0</td>\n",
       "    </tr>\n",
       "    <tr>\n",
       "      <th>1</th>\n",
       "      <td>61861</td>\n",
       "      <td>345.943650</td>\n",
       "      <td>235.430468</td>\n",
       "      <td>0.732706</td>\n",
       "      <td>67390</td>\n",
       "      <td>0.702280</td>\n",
       "      <td>1063.621</td>\n",
       "      <td>1</td>\n",
       "    </tr>\n",
       "    <tr>\n",
       "      <th>2</th>\n",
       "      <td>52693</td>\n",
       "      <td>283.504239</td>\n",
       "      <td>242.113954</td>\n",
       "      <td>0.520265</td>\n",
       "      <td>54860</td>\n",
       "      <td>0.737749</td>\n",
       "      <td>895.745</td>\n",
       "      <td>0</td>\n",
       "    </tr>\n",
       "    <tr>\n",
       "      <th>3</th>\n",
       "      <td>112808</td>\n",
       "      <td>542.504780</td>\n",
       "      <td>267.201878</td>\n",
       "      <td>0.870293</td>\n",
       "      <td>116961</td>\n",
       "      <td>0.743155</td>\n",
       "      <td>1390.400</td>\n",
       "      <td>1</td>\n",
       "    </tr>\n",
       "    <tr>\n",
       "      <th>4</th>\n",
       "      <td>49882</td>\n",
       "      <td>287.264327</td>\n",
       "      <td>222.185873</td>\n",
       "      <td>0.633852</td>\n",
       "      <td>50880</td>\n",
       "      <td>0.766378</td>\n",
       "      <td>843.764</td>\n",
       "      <td>0</td>\n",
       "    </tr>\n",
       "  </tbody>\n",
       "</table>\n",
       "</div>"
      ],
      "text/plain": [
       "     Area  MajorAxisLength  MinorAxisLength  Eccentricity  ConvexArea  \\\n",
       "0   95347       451.526154       280.226153      0.784111       99256   \n",
       "1   61861       345.943650       235.430468      0.732706       67390   \n",
       "2   52693       283.504239       242.113954      0.520265       54860   \n",
       "3  112808       542.504780       267.201878      0.870293      116961   \n",
       "4   49882       287.264327       222.185873      0.633852       50880   \n",
       "\n",
       "     Extent  Perimeter  Class  \n",
       "0  0.674956   1255.245      0  \n",
       "1  0.702280   1063.621      1  \n",
       "2  0.737749    895.745      0  \n",
       "3  0.743155   1390.400      1  \n",
       "4  0.766378    843.764      0  "
      ]
     },
     "execution_count": 5,
     "metadata": {},
     "output_type": "execute_result"
    }
   ],
   "source": [
    "data.head()"
   ]
  },
  {
   "cell_type": "code",
   "execution_count": 6,
   "id": "5fedac26",
   "metadata": {},
   "outputs": [],
   "source": [
    "split_index = int(len(data) * 0.8)\n",
    "train_data = data.iloc[:split_index]\n",
    "test_data = data.iloc[split_index:]"
   ]
  },
  {
   "cell_type": "code",
   "execution_count": 7,
   "id": "90e5fdd4",
   "metadata": {},
   "outputs": [],
   "source": [
    "X_train = train_data.drop(columns='Class').values\n",
    "y_train = train_data['Class'].values\n",
    "X_test = test_data.drop(columns='Class').values\n",
    "y_test = test_data['Class'].values"
   ]
  },
  {
   "cell_type": "code",
   "execution_count": 8,
   "id": "af850c74",
   "metadata": {},
   "outputs": [],
   "source": [
    "# Scale features\n",
    "scaler = StandardScaler()\n",
    "X_train = scaler.fit_transform(X_train)\n",
    "X_test = scaler.transform(X_test)"
   ]
  },
  {
   "cell_type": "code",
   "execution_count": 9,
   "id": "f7c405ff",
   "metadata": {},
   "outputs": [],
   "source": [
    "# Convert to PyTorch tensors\n",
    "X_train = torch.tensor(X_train, dtype=torch.float32)\n",
    "y_train = torch.tensor(y_train.reshape(-1, 1), dtype=torch.float32)\n",
    "X_test = torch.tensor(X_test, dtype=torch.float32)\n",
    "y_test = torch.tensor(y_test.reshape(-1, 1), dtype=torch.float32)"
   ]
  },
  {
   "cell_type": "code",
   "execution_count": 10,
   "id": "2c3f681d",
   "metadata": {},
   "outputs": [
    {
     "name": "stdout",
     "output_type": "stream",
     "text": [
      "torch.Size([720, 7])\n"
     ]
    }
   ],
   "source": [
    "print(X_train.shape)"
   ]
  },
  {
   "cell_type": "code",
   "execution_count": null,
   "id": "a48baa3b",
   "metadata": {},
   "outputs": [],
   "source": [
    "# 2 Define Neural Network Class\n",
    "class ShallowNeuralNet:\n",
    "    def __init__(self, input_size, hidden_size, output_size):\n",
    "        # Initialize weights and biases with gradient tracking\n",
    "        self.W1 = torch.randn(input_size, hidden_size, requires_grad=True)\n",
    "        self.b1 = torch.zeros(1, hidden_size, requires_grad=True)\n",
    "        self.W2 = torch.randn(hidden_size, output_size, requires_grad=True)\n",
    "        self.b2 = torch.zeros(1, output_size, requires_grad=True)\n",
    "\n",
    "    def forward(self, X):\n",
    "        \"\"\"\n",
    "        Forward pass:\n",
    "        X -> ReLU(W1*X + b1) -> Sigmoid(W2*a1 + b2)\n",
    "        \"\"\"\n",
    "        self.z1 = X @ self.W1 + self.b1           # Linear transform 1\n",
    "        self.a1 = torch.relu(self.z1)             # Activation 1 (ReLU)\n",
    "        self.z2 = self.a1 @ self.W2 + self.b2     # Linear transform 2\n",
    "        self.y_pred = torch.sigmoid(self.z2)      # Activation 2 (Sigmoid)\n",
    "        return self.y_pred\n",
    "\n",
    "    def compute_loss(self, y_true, y_pred):\n",
    "        # Binary cross-entropy loss for binary classification\n",
    "        return F.binary_cross_entropy(y_pred, y_true)\n",
    "\n",
    "    def backward(self):\n",
    "        # Compute gradients for all weights and biases\n",
    "        self.loss.backward()\n",
    "\n",
    "    def update_weights(self, lr):\n",
    "        # Manually update weights using gradient descent\n",
    "        with torch.no_grad():\n",
    "            self.W1 -= lr * self.W1.grad\n",
    "            self.b1 -= lr * self.b1.grad\n",
    "            self.W2 -= lr * self.W2.grad\n",
    "            self.b2 -= lr * self.b2.grad\n",
    "\n",
    "            # Clear old gradients\n",
    "            self.W1.grad.zero_()\n",
    "            self.b1.grad.zero_()\n",
    "            self.W2.grad.zero_()\n",
    "            self.b2.grad.zero_()\n",
    "\n",
    "    def train(self, X_train, y_train, epochs, lr):\n",
    "        \"\"\"\n",
    "        Complete training loop:\n",
    "        1. Forward pass\n",
    "        2. Compute loss\n",
    "        3. Backpropagation\n",
    "        4. Update weights\n",
    "        \"\"\"\n",
    "        self.losses = []\n",
    "        self.accuracies = []\n",
    "\n",
    "        for epoch in range(epochs):\n",
    "            y_pred = self.forward(X_train)\n",
    "            self.loss = self.compute_loss(y_train, y_pred)\n",
    "            self.backward()\n",
    "            self.update_weights(lr)\n",
    "\n",
    "            # Track performance\n",
    "            pred_labels = y_pred.detach().numpy() > 0.5\n",
    "            acc = accuracy_score(y_train, pred_labels)\n",
    "            self.losses.append(self.loss.item())\n",
    "            self.accuracies.append(acc)\n",
    "\n",
    "            if epoch % 100 == 0 or epoch == epochs - 1:\n",
    "                print(f\"Epoch {epoch}: Loss = {self.loss.item():.4f}, Accuracy = {acc * 100:.2f}%\")\n",
    "\n",
    "    def evaluate(self, X_test, y_test):\n",
    "        # Make predictions on test set\n",
    "        with torch.no_grad():\n",
    "            y_pred = self.forward(X_test)\n",
    "            preds = y_pred > 0.5\n",
    "            acc = accuracy_score(y_test, preds)\n",
    "            print(f\"Test Accuracy: {acc * 100:.2f}%\")\n",
    "            return preds\n",
    "\n",
    "    def plot_metrics(self):\n",
    "        # Plot loss and accuracy trends\n",
    "        plt.figure(figsize=(12, 5))\n",
    "        plt.subplot(1, 2, 1)\n",
    "        plt.plot(self.losses)\n",
    "        plt.title(\"Loss over Epochs\")\n",
    "        plt.subplot(1, 2, 2)\n",
    "        plt.plot(self.accuracies)\n",
    "        plt.title(\"Accuracy over Epochs\")\n",
    "        plt.show()"
   ]
  },
  {
   "cell_type": "code",
   "execution_count": null,
   "id": "ac61fe36",
   "metadata": {},
   "outputs": [
    {
     "name": "stdout",
     "output_type": "stream",
     "text": [
      "Epoch 0: Loss = 1.9947, Accuracy = 31.53%\n",
      "Epoch 100: Loss = 0.3628, Accuracy = 84.86%\n",
      "Epoch 200: Loss = 0.3417, Accuracy = 85.83%\n",
      "Epoch 300: Loss = 0.3350, Accuracy = 86.11%\n",
      "Epoch 400: Loss = 0.3309, Accuracy = 86.39%\n",
      "Epoch 500: Loss = 0.3273, Accuracy = 86.11%\n",
      "Epoch 600: Loss = 0.3252, Accuracy = 86.25%\n",
      "Epoch 700: Loss = 0.3235, Accuracy = 86.81%\n",
      "Epoch 800: Loss = 0.3219, Accuracy = 86.67%\n",
      "Epoch 900: Loss = 0.3205, Accuracy = 86.67%\n",
      "Epoch 999: Loss = 0.3192, Accuracy = 86.67%\n"
     ]
    }
   ],
   "source": [
    "# 3. Train the Model\n",
    "input_size = X_train.shape[1]\n",
    "hidden_size = 10\n",
    "output_size = 1\n",
    "lr = 0.1\n",
    "epochs = 1000\n",
    "\n",
    "model = ShallowNeuralNet(input_size, hidden_size, output_size)\n",
    "model.train(X_train, y_train, epochs, lr)"
   ]
  },
  {
   "cell_type": "code",
   "execution_count": null,
   "id": "b947c2a7",
   "metadata": {},
   "outputs": [
    {
     "name": "stdout",
     "output_type": "stream",
     "text": [
      "Test Accuracy: 91.67%\n"
     ]
    }
   ],
   "source": [
    "# 4. Evaluate Model\n",
    "y_pred_test = model.evaluate(X_test, y_test)"
   ]
  },
  {
   "cell_type": "code",
   "execution_count": null,
   "id": "d74cb9af",
   "metadata": {},
   "outputs": [
    {
     "data": {
      "image/png": "[encoded data removed]",
      "text/plain": [
       "<Figure size 640x480 with 2 Axes>"
      ]
     },
     "metadata": {},
     "output_type": "display_data"
    }
   ],
   "source": [
    "# 5. Confusion Matrix\n",
    "cm = confusion_matrix(y_test, y_pred_test)\n",
    "sns.heatmap(cm, annot=True, fmt='d')\n",
    "plt.title(\"Confusion Matrix\")\n",
    "plt.xlabel(\"Predicted\")\n",
    "plt.ylabel(\"Actual\")\n",
    "plt.show()"
   ]
  },
  {
   "cell_type": "code",
   "execution_count": null,
   "id": "1b122144",
   "metadata": {},
   "outputs": [
    {
     "data": {
      "image/png": "[encoded data removed]",
      "text/plain": [
       "<Figure size 1200x500 with 2 Axes>"
      ]
     },
     "metadata": {},
     "output_type": "display_data"
    }
   ],
   "source": [
    "# Plot Loss & Accuracy\n",
    "model.plot_metrics()"
   ]
  },
  {
   "cell_type": "code",
   "execution_count": null,
   "id": "5716168e",
   "metadata": {},
   "outputs": [],
   "source": []
  }
 ],
 "metadata": {
  "kernelspec": {
   "display_name": ".venv",
   "language": "python",
   "name": "python3"
  },
  "language_info": {
   "codemirror_mode": {
    "name": "ipython",
    "version": 3
   },
   "file_extension": ".py",
   "mimetype": "text/x-python",
   "name": "python",
   "nbconvert_exporter": "python",
   "pygments_lexer": "ipython3",
   "version": "3.12.4"
  }
 },
 "nbformat": 4,
 "nbformat_minor": 5
}
