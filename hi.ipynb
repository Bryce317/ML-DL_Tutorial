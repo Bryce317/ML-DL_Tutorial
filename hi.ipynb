{
 "cells": [
  {
   "cell_type": "code",
   "execution_count": null,
   "id": "a8bf12bf",
   "metadata": {},
   "outputs": [],
   "source": [
    "\n",
    "def is_prime(x):\n",
    "    if x <= 1:\n",
    "        return False\n",
    "    for i in range(2, int(x**0.5)+1):\n",
    "        if x % i == 0:\n",
    "            return False\n",
    "    return True\n"
   ]
  },
  {
   "cell_type": "code",
   "execution_count": null,
   "id": "5cae6a7f",
   "metadata": {},
   "outputs": [],
   "source": [
    "is_prime(2)"
   ]
  }
 ],
 "metadata": {
  "kernelspec": {
   "display_name": "Python 3",
   "language": "python",
   "name": "python3"
  },
  "language_info": {
   "name": "python",
   "version": "3.10.9"
  }
 },
 "nbformat": 4,
 "nbformat_minor": 5
}
